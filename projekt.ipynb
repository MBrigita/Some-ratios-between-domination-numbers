{
 "cells": [
  {
   "cell_type": "markdown",
   "metadata": {
    "collapsed": false
   },
   "source": [
    "# Razmerji med dominantnimi števili\n",
    "\n",
    "## Osnovni pojmi\n",
    "**Graf G** je množica točk v prostoru in povezav med temi točkami. Označimo ga z $G=(V, E)$, kjer je $V(G)$ množica točk in $E(G)$ množica povezav grafa $G$.\n",
    "**Odprta okolica ali soseščina N** vozlišča $v$ je množica vozlišč, ki je sosedna vozlišču $v$, torej $N(v) =\\{ u\\in V: uv\\in E \\}$. **Kartezični produkt grafov** $G_1 = (V_1, E_1)$ in $G_2 = (V_2, E_2)$ je graf $G = G_1 \\square G_2$, ki ima množico točk $ V(G) = V_1 \\times V_2$ in množico povezav $ E(G)$, kjer je $(u,v)(x,y) \\in E(G)$, če je $ u=x $ in $vy \\in E(G_2) $ ali $ux \\in E(G_1)$ in $v = y$. \\\n",
    "**Dominantna množica $ D \\subseteq V(G) $ grafa $G$** je takšna množica, da ima vsako vozlišče grafa, ki ni v $D$ $( v \\in V(G) \\setminus D)$, soseda v $D$. Z drugimi besedami, vsako vozlišče  $v \\in V(G)$ je ali  element množice $D$ ali pa je sosednje kakemu vozlišču, ki pripada množici $D$. **Dominantno število** $\\gamma(G) $  je moč najmanjše dominantne množice grafa $G$.\n",
    "Množica $S$ je **totalno dominantna**, če je $ N(S) = V(G)$, kar pomeni, da je vsako vozlišče iz $ V(G)$ sosednje vozlišču iz množice $S$. \\\n",
    "$ \\gamma_t $ označujemo **totalno dominantno število**, ki predstavlja velikost najmanjše totalno dominantne množice. \\\n",
    "Naj bo $G=(V, E)$ graf in $f: V \\to P (\\{1,2\\dots,k\\})$ funkcija, ki vsakemu vozlišču iz $V$ priredi množico barv iz $ \\{1,2\\dots,k\\}$. Če za vsak $v \\in V$ za katerega je $ f(v) = \\emptyset $ velja $ \\bigcup_{u \\in N(v) } f(u) = \\{1,2\\dots,k\\}$ potem f imenujemo **k-mavrična dominantna funkcija** grafa $G$, krajše kRDF funkcija. **Težo $w(f)$** funkcije f, definiramo z $w(f) = \\sum_{v \\in V} \\mid f(v)\\mid$. Najmanjša vrednost mavrične dominantne funkcije grafa $G$ se imenuje **k-mavrično dominanto število**, in jo označimo z $\\gamma_{rk} (g)$.\\\n",
    "Za graf $G$ je **k-mavrično totalno dominantna funkcija** f, krajše kRTDF,  k-mavrična dominantna funkcija s pogojem, da podgraf grafa G, ki ga določa množica $\\{v \\in V(G) \\mid f(v) \\neq \\emptyset \\}$ nima izoliranih vozlišč. Teža funkcije kRTDF je  $w(f) = \\sum_{v \\in V} \\mid f(v)\\mid$. Za dan graf G, imenujemo težo najmanjše kRTDF funkcije **k-mavrično totalno dominantno število**, in jo označimo z  $\\gamma_{rkt} (g)$. \n",
    "\n",
    "## Problema\n",
    "#### 1.Problem\n",
    "Najdi funkcijo $b(k)$, da za $k \\geqq 3$, za katero je dana neenakost ozka:\n",
    "\\begin{equation}\n",
    "  \\gamma_{krt}(G) \\geqq b(k) \\cdot \\gamma_t\n",
    "\\end{equation}\n",
    "\n",
    "Z drugimi besedami, najdi $b(k) = \\inf_G \\frac{\\gamma_{krt}(G)}{\\gamma_t(G)}$.\n",
    "\n",
    "#### 2. Problem\n",
    "Najdi funkcijo $a(k)$, da za $k \\geqq 3$, za katero je dana neenakost ozka:\n",
    "\\begin{equation}\n",
    "   a(k) \\cdot \\gamma_{kr}(G) \\geqq \\gamma_{krt}(G)\n",
    "\\end{equation}\n",
    "\n",
    "Z drugimi besedami, najdi $a(k) = \\sup_G \\frac{\\gamma_{krt}(G)}{\\gamma_{kr}(G)}$.\n",
    "\n",
    "\n",
    "## Reševanje naloge\n",
    "\n",
    "\n",
    "Najprej sva podrobneje analizirala grafe do vključno 8 vozlišč in poskusila najti vzorce. Funkcijo sva pognala na vseh možnih grafih posamezne velikosti in postopoma povečevala k. V drugem delu pa sva generirala večje grafe različnih velikost in raziskovala odvisnost od k. Pogledala sva tudi kako se supremum oz infimum spremeni, če grafu odstranim oz. dodamo vozlišče ali povezavo.\n",
    "Najprej sva definirala *funkcijo dominacija*, ki nam je izračuna za željeno število k in graf totalno dominacijo, k-mavrično število in totalno k-mavrično dominacijo. Funkcijo sva nato uporabila v *funkciji razmerje*, ki nam izračuna infiumum oz. supremum. Funkcija razmerje sprejme parameter v, s katerim določimo število vozlišč grafa. Izračuna nam kvocient med dominacijami za vsak graf velikosti v in za vsako število k med 2 in številom vozlišč.\n",
    "Rezultate sva s pomočjo *funkcije shrani* shranila v datoteko *grafi.txt*. Ta nama je tudi olajšala delo, da nisva funkcije razmerje za vsako število vozlišč posebej poganjala, saj ji povemo interval števil za katere naj pokliče funkcijo razmerje. Poleg tega si shrani tudi grafe za katere je dosežen infimum oz. supremum. Če želimo, da se nam izriše graf z v vozlišči in k-mavričnim številom pri katerem je dosežen supremum/ infimum pokličemo *funkcijo graf_sup* oz. *funkcijo graf_inf*.\n",
    "\n"
   ]
  },
  {
   "cell_type": "code",
   "execution_count": 1,
   "metadata": {
    "collapsed": false
   },
   "outputs": [
   ],
   "source": [
    "import json\n",
    "\n",
    "def dominacija(G,k):\n",
    "    t = G.dominating_set(value_only= True, total = True)\n",
    "    kr = (G.cartesian_product(graphs.CompleteGraph(k))).dominating_set(value_only=True)\n",
    "    krt = (G.cartesian_product(graphs.CompleteGraph(k))).dominating_set(value_only=True, total=True)\n",
    "    return [t,kr,krt]\n",
    "\n",
    "def razmerje(v):\n",
    "    sez_inf = []\n",
    "    sez_sup = []\n",
    "    grafi_inf = []\n",
    "    grafi_sup = []\n",
    "    for i in range(2,v+1):\n",
    "        a = 11111111\n",
    "        b= 0\n",
    "        sez_inf.append([i,a])\n",
    "        sez_sup.append([i,b])\n",
    "        grafi_inf.append([0])\n",
    "        grafi_sup.append([0])\n",
    "        for G in graphs(v):\n",
    "            if G.is_connected():\n",
    "                dom = dominacija(G,i)\n",
    "                if a > dom[2]/dom[0]:\n",
    "                    a = dom[2]/dom[0]\n",
    "                    sez_inf[i-2] = [i,a]\n",
    "                    grafi_inf[i-2] = G.sparse6_string()\n",
    "                if b < dom[2]/dom[1]:\n",
    "                    b = dom[2]/dom[1]\n",
    "                    sez_sup[i-2] = [i,b]\n",
    "                    grafi_sup[i-2]=G.sparse6_string()\n",
    "\n",
    "    return [sez_inf,sez_sup],grafi_inf, grafi_sup\n",
    "\n",
    "def shrani(i,j):\n",
    "    o= open('grafi.txt','w')\n",
    "    for t in range(i,j):\n",
    "        r,graf_i,graf_s = razmerje(t)\n",
    "        o.write(str(r))\n",
    "        o.write('\\n')\n",
    "        with open('grafi_inf{}.json'.format(t),'w') as i :\n",
    "            json.dump(graf_i,i)\n",
    "        with open('grafi_sup{}.json'.format(t),'w')as s:\n",
    "            json.dump(graf_s,s)\n",
    "    o.close()\n",
    "    \n",
    "def graf_sup(v,k):\n",
    "    with open(\"grafi_sup{}.json\".format(v)) as i:\n",
    "        graf_sup = json.load(i)\n",
    "        G = Graph(str(graf_sup[k-2]))\n",
    "    return G\n",
    "\n",
    "def graf_inf(v,k):\n",
    "    with open(\"grafi_inf{}.json\".format(v)) as i:\n",
    "        graf_inf = json.load(i)\n",
    "        H = Graph(str(graf_inf[k-2]))\n",
    "    return H"
   ]
  },
  {
   "cell_type": "code",
   "execution_count": 9,
   "metadata": {
    "collapsed": false
   },
   "outputs": [
    {
     "data": {
      "text/plain": [
       "['[[[2, 1], [3, 3/2]], [[2, 1], [3, 1]]]\\r\\n',\n",
       " '[[[2, 1], [3, 3/2], [4, 2]], [[2, 2], [3, 4/3], [4, 1]]]\\r\\n',\n",
       " '[[[2, 1], [3, 4/3], [4, 5/3], [5, 5/3]], [[2, 2], [3, 4/3], [4, 1], [5, 1]]]\\r\\n',\n",
       " '[[[2, 1], [3, 5/4], [4, 3/2], [5, 3/2], [6, 3/2]], [[2, 2], [3, 5/3], [4, 3/2], [5, 6/5], [6, 1]]]\\r\\n',\n",
       " '[[[2, 1], [3, 5/4], [4, 3/2], [5, 7/4], [6, 7/4], [7, 7/4]], [[2, 2], [3, 5/3], [4, 3/2], [5, 6/5], [6, 1], [7, 1]]]\\r\\n',\n",
       " '[[[2, 1], [3, 5/4], [4, 3/2], [5, 8/5], [6, 8/5], [7, 8/5], [8, 8/5]], [[2, 2], [3, 5/3], [4, 7/4], [5, 7/5], [6, 4/3], [7, 8/7], [8, 1]]]']"
      ]
     },
     "execution_count": 9,
     "metadata": {
     },
     "output_type": "execute_result"
    }
   ],
   "source": [
    "text_file = open('grafi.txt', 'r')\n",
    "seznam = text_file.readlines()\n",
    "seznam"
   ]
  },
  {
   "cell_type": "markdown",
   "metadata": {
    "collapsed": false
   },
   "source": [
    "Pri iskanju infimuma vidimo, da je za k = 2 za vsak graf infimum enak 1. Če se omejimo na posamezno velikost grafa in povečujemo k opazimo, da z naraščanjem k tudi infimum na začetku narašča, a se čez čas ne spreminja več.\n",
    "Če pa fiksiramo k in povečujemo velikost grafa pa iz podatkov ni razvidnih vzorcev. Mogoče le za k=4 bi lahko trdili, da je infimum enak 3/2.\n",
    "\n",
    "Pri drugem problemu je za k = 2 supremum enak 2. Če fiksiramo vozlišča in povečujemo k supremum pada in doseže 1, ko je k enak številu vozlišč grafa. Če pa je k fiksen in povečujemo vozlišča supremum narašča proti 2.\n",
    "Sumimo, da se bo supremum nahajal na intervalu [3/2,2]\n",
    "\n",
    "Ko sva si ustvarila osnovno idejo sva analizirala grafe na večjih vozliščih. Najprej sva definirala *funkcijo vrednosti*,  ki nam za parameter v in dani graf v seznam shrani k-mavrično dominantno število in totalno k-mavrično dominantno število grafa za k na intervalu [3,v]. Definirala sva pomožni funkciji *deli_elemente* in *deli_seznam*, ki nam izračunajo razmerja med dominantnimi števili  in *funkciji primerjaj_sup* in *primerjaj_inf*, ki primerjajo razmerja med seboj in shranijo najmanjše oz. največje število. Pri *funkciji zunanja* izberemo število ponovitev, ki naj jih naredi funkcija in maksimalno število vozlišč, ki naj jih ima graf. Funkcija generira slučajen graf za katerega izračuna iskana razmerja in jih primerja z (do tega trenutka) najboljšimi izračunanimi razmerji.  Kot rezultat nam vrne seznam seznamov minimuma in maksimuma razmerji.\n",
    "\n",
    "\n"
   ]
  },
  {
   "cell_type": "code",
   "execution_count": 1,
   "metadata": {
    "collapsed": false
   },
   "outputs": [
   ],
   "source": [
    "def vrednosti(g,v):\n",
    "    sez_kr = []\n",
    "    sez_krt = []\n",
    "    if g.is_connected():\n",
    "        for i in range(3,v):\n",
    "            f = g.cartesian_product(graphs.CompleteGraph(i))\n",
    "            sez_kr.append(f.dominating_set(value_only=True))\n",
    "            sez_krt.append(f.dominating_set(value_only = True, total=True))\n",
    "    return[sez_kr, sez_krt]"
   ]
  },
  {
   "cell_type": "code",
   "execution_count": 2,
   "metadata": {
    "collapsed": false
   },
   "outputs": [
   ],
   "source": [
    "def deli_elemente(seznam, st):\n",
    "    return [x / st for x in seznam]"
   ]
  },
  {
   "cell_type": "code",
   "execution_count": 3,
   "metadata": {
    "collapsed": false
   },
   "outputs": [
   ],
   "source": [
    "def deli_seznam(seznam1, seznam2):\n",
    "    return [int(b) / int(m) for b,m in zip(seznam1, seznam2)]"
   ]
  },
  {
   "cell_type": "code",
   "execution_count": 4,
   "metadata": {
    "collapsed": false
   },
   "outputs": [
   ],
   "source": [
    "def primerjaj_sup(sez1, sez2):\n",
    "    for i in range(0,len(sez2)):\n",
    "        if sez1[i] < sez2[i]:\n",
    "            sez1[i] = sez2[i]\n",
    "    return sez1"
   ]
  },
  {
   "cell_type": "code",
   "execution_count": 5,
   "metadata": {
    "collapsed": false
   },
   "outputs": [
   ],
   "source": [
    "def primerjaj_inf(sez1, sez2):\n",
    "    for i in range(0,len(sez2)):\n",
    "        if sez1[i] > sez2[i]:\n",
    "            sez1[i] = sez2[i]\n",
    "    return sez1"
   ]
  },
  {
   "cell_type": "code",
   "execution_count": 6,
   "metadata": {
    "collapsed": false
   },
   "outputs": [
   ],
   "source": [
    "def zunanja (ponovitve, vozlisca):\n",
    "    st = 0\n",
    "    razmerje1 = [1110,1110,1110,1110,1110,1110,1111,1110,1110,1110,1110,1110,1110,1110,1110,1110,1110,1110,1110,1110,1110,1110,1110,1110,1110,1110,1110,1110]\n",
    "    razmerje2 = [0,0,0,0,0,0,0,0,0,0,0,0,0,0,0,0,0,0,0,0,0,0,0,0,0,0,0,0]\n",
    "    for i in range(0,ponovitve):\n",
    "        no=randrange(4,vozlisca)\n",
    "        g = graphs.RandomGNP(no, 0.5)\n",
    "        if g.is_connected():\n",
    "            [sez_kr, sez_krt] = vrednosti(g,len(razmerje1))\n",
    "            t = g.dominating_set(value_only=True, total = True)\n",
    "            b = deli_elemente(sez_krt, t)\n",
    "            a = deli_seznam(sez_krt, sez_kr)\n",
    "            razmerje1 = primerjaj_inf(razmerje1, b)\n",
    "            razmerje2 = primerjaj_sup(razmerje2, a)\n",
    "            st += 1\n",
    "            print ponovitve - st\n",
    "    return [a,b]"
   ]
  },
  {
   "cell_type": "markdown",
   "metadata": {
    "collapsed": false
   },
   "source": [
    "Nato naju je zanimalo kako se razmerje med dominacijami spremeni, če grafu dodamo vozlišče in povezavo ali dodamo povezavo ali odstranimo povezavo ali vozlišče. Spremembo grafa sva naredila s pomočjo *funkcije sosed*, ki naključno naredi eno (če funkciji ne s pomočjo parametra k določimo drugače) izmed prej omenjenih operacij na grafu. Definirala sva tudi pomožni *funkciji kriterij_a** in kriterij_b*, ki izračunata kvocient dominantnih števil. *Funkcija sim_ann_a*  sprejme pet parametrov n, p, k, ponovitve in i. S parametrom n ji povemo koliko vozlišč naj ima naključni graf in s p pa kakšna naj bo verjetnost povezave.  S parametrom k določimo število barv in kot ime pove s parametrom ponovitve določimo število ponovitev funkcije. Z neobveznim parametrom i določimo koliko sprememb grafa hkrati naj naredi funkcija sosed.  Funkcija izračuna razliko razmerja dominantnih števil za prvotni graf in spremenjeni graf.  V primeru, da je razlika pozitivna prvotni graf nadomesti s spremenjenim, v nasprotnem primeru pa naključno ohrani oz. spremeni graf.  Kot rezultat vrne zadnje shranjen graf in razmerje dominantnih števil tega grafa. Podobno deluje *funkcija sim_ann_b*. Pomagala sva si še s *funkcijo test_seznam*, ki ima enake parametre kot prejšnji funkciji, razen namesto parametra k je zdaj seznam števil.  To pa zato, ker za vsako število v seznamu pokličemo prej omenjeni funkciji in to število vzamemo kot parameter k.  Funkcija vrne seznam rezultatov funkcij sim_ann_a in sim_ann_b."
   ]
  },
  {
   "cell_type": "code",
   "execution_count": 1,
   "metadata": {
    "collapsed": false
   },
   "outputs": [
   ],
   "source": [
    "import random\n",
    "\n",
    "def sosed(h, k=1):\n",
    "    for i in range(k):\n",
    "        g = Graph(h)\n",
    "        while True:\n",
    "            c =random.random()\n",
    "            print c\n",
    "            if c <=0.25:\n",
    "                b = len(g.vertices())\n",
    "                a = randrange(0,b)\n",
    "                g.add_vertex(name = b)\n",
    "                g.add_edge(a,b)\n",
    "                h = g\n",
    "                break\n",
    "            elif c <= 0.5 and c > 0.25:\n",
    "                a = g.complement().random_edge()\n",
    "                g.add_edge(a)\n",
    "                h = g\n",
    "                break\n",
    "            elif c > 0.75:\n",
    "                a = g.random_edge()\n",
    "                g.delete_edge(a)\n",
    "                if g.is_connected():\n",
    "                    h = g\n",
    "                    break\n",
    "                else:\n",
    "                    g.add_edge(a)\n",
    "                    continue\n",
    "            else:\n",
    "                a = g.random_vertex()\n",
    "                g.delete_vertex(a)\n",
    "                if g.is_connected():\n",
    "                    h = g\n",
    "                    break\n",
    "                else:\n",
    "                    g.add_vertex(a)\n",
    "                    continue\n",
    "    return h\n",
    "\n",
    "def kriterij_a(g, i):\n",
    "    h = Graph(g)\n",
    "    return (h.cartesian_product(graphs.CompleteGraph(i))).dominating_set(value_only = True, total = True)/RR((h.cartesian_product(graphs.CompleteGraph(i))).dominating_set(value_only = True))\n",
    "\n",
    "def kriterij_b(g,i):\n",
    "    h = Graph(g)\n",
    "    return (h.cartesian_product(graphs.CompleteGraph(i))).dominating_set(value_only = True, total = True)/RR(h.dominating_set(value_only=True, total = True))\n",
    "\n",
    "def sim_ann_a(n, p, k, ponovitve, i=1):\n",
    "    g = graphs.RandomGNP(n,p)\n",
    "    for m in range(ponovitve):\n",
    "        t = ponovitve/(m+1)\n",
    "        sos = sosed(g, i)\n",
    "        razlika = RR(kriterij_a(g,k)) - RR(kriterij_a(sos,k))\n",
    "        if razlika > 0:\n",
    "            g = sos\n",
    "        elif exp((razlika * 100)/t) > random.random():\n",
    "            g = sos\n",
    "        print m\n",
    "    return g.sparse6_string(), float(kriterij_a(g,i))\n",
    "\n",
    "def sim_ann_b(n, p, k, ponovitve, i=1):\n",
    "    g = graphs.RandomGNP(n,p)\n",
    "    for i in range(ponovitve):\n",
    "        t = ponovitve/(i+1)\n",
    "        sos = sosed(g)\n",
    "        razlika = RR(kriterij_b(sos,k)) - RR(kriterij_b(g,k))\n",
    "        if razlika > 0:\n",
    "            g = sos\n",
    "        elif exp((razlika * 100)/t) > random.random():\n",
    "            g = sos\n",
    "        print i\n",
    "    return g.sparse6_string(), float(kriterij_b(g,i))\n",
    "\n",
    "\n",
    "def test_seznam(n, p, sez, ponovitve, i=1):\n",
    "    podatki = []\n",
    "    for k in sez:\n",
    "        graf_a, stevilo_a = sim_ann_a(n,p, k, ponovitve)\n",
    "        graf_b, stevilo_b = sim_ann_b(n,p, k, ponovitve)\n",
    "        podatki.append([graf_a, stevilo_a, graf_b, stevilo_b])\n",
    "    \treturn podatki\n",
    "\n",
    "\n",
    "def zapisi(podatki, i):\n",
    "    with open(\"rezultati{}.json\".format(i), \"w\") as f:\n",
    "        json.dump(podatki, f)"
   ]
  }
 ],
 "metadata": {
  "kernelspec": {
   "display_name": "SageMath (stable)",
   "language": "sagemath",
   "metadata": {
    "cocalc": {
     "description": "Open-source mathematical software system",
     "priority": 10,
     "url": "https://www.sagemath.org/"
    }
   },
   "name": "sagemath"
  },
  "language_info": {
   "codemirror_mode": {
    "name": "ipython",
    "version": 2
   },
   "file_extension": ".py",
   "mimetype": "text/x-python",
   "name": "python",
   "nbconvert_exporter": "python",
   "pygments_lexer": "ipython2",
   "version": "2.7.15"
  }
 },
 "nbformat": 4,
 "nbformat_minor": 0
}