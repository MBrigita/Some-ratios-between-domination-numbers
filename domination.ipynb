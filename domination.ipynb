{
 "cells": [
  {
   "cell_type": "code",
   "execution_count": 2,
   "metadata": {
    "collapsed": false
   },
   "outputs": [
   ],
   "source": [
    "def dominacija(G,k):\n",
    "    t = G.dominating_set(value_only= True, total = True)\n",
    "    kr = (G.cartesian_product(graphs.CompleteGraph(k))).dominating_set(value_only=True)\n",
    "    krt = (G.cartesian_product(graphs.CompleteGraph(k))).dominating_set(value_only=True, total=True)\n",
    "    return [t,kr,krt]"
   ]
  },
  {
   "cell_type": "code",
   "execution_count": 3,
   "metadata": {
    "collapsed": false
   },
   "outputs": [
   ],
   "source": [
    "def razmerje(v):\n",
    "    sez_inf = []\n",
    "    sez_sup = []\n",
    "    for i in range(2,v+1):\n",
    "        a = 11111111\n",
    "        b= 0\n",
    "        sez_inf.append([i,a])\n",
    "        sez_sup.append([i,b])\n",
    "        for G in graphs(v):\n",
    "            if G.is_connected():\n",
    "                dom = dominacija(G,i)\n",
    "                if a > dom[2]/dom[0]:\n",
    "                    a = dom[2]/dom[0]\n",
    "                    sez_inf[i-2] = [i,a]\n",
    "                if b < dom[2]/dom[1]:\n",
    "                    b = dom[2]/dom[1]\n",
    "                    sez_sup[i-2] = [i,b]\n",
    "    return [sez_inf,sez_sup]"
   ]
  },
  {
   "cell_type": "code",
   "execution_count": 0,
   "metadata": {
    "collapsed": false
   },
   "outputs": [
   ],
   "source": [
    "def shrani(i,j):\n",
    "    o= open('grafi.txt','w')\n",
    "    for t in range(i,j):\n",
    "        r = razmerje(t)\n",
    "        o.write(str(r))\n",
    "        o.write('\\n')\n",
    "    o.close()"
   ]
  },
  {
   "cell_type": "code",
   "execution_count": 0,
   "metadata": {
    "collapsed": false
   },
   "outputs": [
   ],
   "source": [
    "shrani(3,9)"
   ]
  },
  {
   "cell_type": "code",
   "execution_count": 0,
   "metadata": {
    "collapsed": false
   },
   "outputs": [
   ],
   "source": [
    "def spremeni_graf(G):\n",
    "    H = Graph(G)\n",
    "    if random() < 0.5:\n",
    "        H.delete_edge(H.random_edge())\n",
    "    else:\n",
    "        H.add_edge(H.complement().random_edge())\n",
    "    return H\n",
    "G = graphs.RandomGNP(5, 0.5)\n",
    "G.show()\n",
    "spremeni_graf(G).show()\n"
   ]
  }
 ],
 "metadata": {
  "kernelspec": {
   "display_name": "SageMath (stable)",
   "language": "sagemath",
   "metadata": {
    "cocalc": {
     "description": "Open-source mathematical software system",
     "priority": 10,
     "url": "https://www.sagemath.org/"
    }
   },
   "name": "sagemath"
  },
  "language_info": {
   "codemirror_mode": {
    "name": "ipython",
    "version": 2
   },
   "file_extension": ".py",
   "mimetype": "text/x-python",
   "name": "python",
   "nbconvert_exporter": "python",
   "pygments_lexer": "ipython2",
   "version": "2.7.15"
  }
 },
 "nbformat": 4,
 "nbformat_minor": 0
}